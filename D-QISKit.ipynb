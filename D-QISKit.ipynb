{
 "cells": [
  {
   "cell_type": "markdown",
   "metadata": {},
   "source": [
    "<table>\n",
    "   <tr>\n",
    "     <td><img src=\"./images/logo-MESOLR.jpg\" alt=\"Note: In order for images to show up in this jupyter notebook you need to select File => Trusted Notebook\" width=\"400 px\" align=\"left\"></td>\n",
    "    <td>  </td>\n",
    "    <td><img src=\"./images/logo-IBM.png\" alt=\"Note: In order for images to show up in this jupyter notebook you need to select File => Trusted Notebook\" width=\"400 px\" align=\"left\"></td>\n",
    "   </tr>\n",
    "</table>\n",
    "\n",
    "# <center>QISKit hands on lab</center>\n",
    "\n",
    "### <span style=\"color:blue\"><em>Jean-Michel Torres, IBM Q Hub France, torresjm@fr.ibm.com</em></span>\n",
    "\n",
    "***Star***, download, or use from `mybinder`: \n",
    "\n",
    "# https://github.com/jmit34/20191217\n",
    "\n",
    "### Agenda :\n",
    "<ol>\n",
    "    <li>QISKit with Python : \"Hello World!\"</li>\n",
    "    <li>Quantum gates in quantum circuits</li>\n",
    "    <li>qiskit API's to work with a real quantum device</li>\n",
    "    <li>First quantum algorithm : Deutsch</li>\n",
    "    <li>Bernstein-Vazirani</li>\n",
    "    <li>Using QISKit AQUA with Grover search algorithm for the 3SAT problem</li>\n",
    "</ol>\n"
   ]
  },
  {
   "cell_type": "markdown",
   "metadata": {},
   "source": [
    "<div class=\"alert alert-block alert-success\">\n",
    "    \n",
    "# 1. QISKit with Python : \"Hello World!\"\n",
    "</div>"
   ]
  },
  {
   "cell_type": "markdown",
   "metadata": {},
   "source": [
    "### Importing needed objects: \n",
    "\n",
    "<ul>\n",
    "    <li>QuantumRegister : to be able to define and use qubits</li>\n",
    "    <li>ClassicalRegister : to be able to \"read\" measurement results, after circuit is executed</li>\n",
    "    <li>QuantumCircuit : building gates based algorithm</li>\n",
    "    <li>execute : method applied to the circuit for running</li>\n",
    "    <li>\"backend\" (from AER for now) to target local simulator</li> \n",
    "    <li>visualization tools</li> \n",
    "</ul>"
   ]
  },
  {
   "cell_type": "code",
   "execution_count": null,
   "metadata": {
    "slideshow": {
     "slide_type": "-"
    }
   },
   "outputs": [],
   "source": [
    "%matplotlib inline\n",
    "from qiskit import QuantumRegister, ClassicalRegister, QuantumCircuit, execute, Aer\n",
    "from qiskit.tools.visualization import plot_histogram\n",
    "backend = Aer.get_backend('qasm_simulator')"
   ]
  },
  {
   "cell_type": "markdown",
   "metadata": {},
   "source": [
    "### Let's define our registers and circuit, and add quantum gates\n",
    "\n",
    "eg: \n",
    "\n",
    "`circ.x(qr[0])` X (not) gate on qubit 0,  \n",
    "\n",
    "`circ.h(qr[0])` Hadamard gate on qubit 0,\n",
    "\n",
    "`circ.cx(qr[0],qr[1])` Control-Not gate (qubit 0 controls qubit 1),\n",
    "\n",
    "`circ.measure(qr,cr)` to perform measurement of the qubits in qr to the bits in cr\n",
    "\n",
    "... \n"
   ]
  },
  {
   "cell_type": "code",
   "execution_count": null,
   "metadata": {},
   "outputs": [],
   "source": [
    "# let's start with a single qubit circuit\n",
    "# let's define our registers \n",
    "qr = QuantumRegister(1)\n",
    "cr = ClassicalRegister(1)\n",
    "\n",
    "# my circuit will be called 'circ', and will use my qr and cr rgisters : circ = QuantumCircuit(qr,cr)\n",
    "circ = QuantumCircuit(qr,cr)\n",
    "\n",
    "# for example do H X H :\n",
    "\n",
    "\n",
    "# on effectue la mesure:\n",
    "\n",
    "\n",
    "# see whart the circuit looks like:  \n",
    "circ.draw(output='mpl')"
   ]
  },
  {
   "cell_type": "code",
   "execution_count": null,
   "metadata": {
    "scrolled": true
   },
   "outputs": [],
   "source": [
    "# execute and display \n",
    "resultat = execute(circ,backend,shots=1000).result()\n",
    "\n",
    "d = resultat.get_counts(circ)\n",
    "d"
   ]
  },
  {
   "cell_type": "code",
   "execution_count": null,
   "metadata": {
    "scrolled": true
   },
   "outputs": [],
   "source": [
    "plot_histogram(resultat.get_counts(circ))"
   ]
  },
  {
   "cell_type": "markdown",
   "metadata": {
    "scrolled": false
   },
   "source": [
    "<div class=\"alert alert-block alert-info\">\n",
    "<b>Note:</b>\n",
    "The result is not necesserally obvious, the math work however. These are the Pauli and Hadamard operators \n",
    "    \n",
    "\\begin{equation}\n",
    "I = \n",
    "\\left(\n",
    "\\begin{array}{cc}\n",
    " 1 & 0  \\\\\n",
    " 0 & 1  \\\\\n",
    "\\end{array}\n",
    "\\right)\n",
    "\\hspace{0.5cm}\n",
    "X = \n",
    "\\left(\n",
    "\\begin{array}{cc}\n",
    " 0 & 1  \\\\\n",
    " 1 & 0  \\\\\n",
    "\\end{array}\n",
    "\\right)\n",
    "\\hspace{0.5cm}\n",
    "Y = \n",
    "\\left(\n",
    "\\begin{array}{cc}\n",
    " 0 & -i  \\\\\n",
    " i & 0  \\\\\n",
    "\\end{array}\n",
    "\\right)\n",
    "\\hspace{0.5cm}\n",
    "Z = \n",
    "\\left(\n",
    "\\begin{array}{cc}\n",
    " 1 & 0  \\\\\n",
    " 0 & -1  \\\\\n",
    "\\end{array}\n",
    "\\right)\n",
    "\\hspace{0.5cm}\n",
    "H = \\frac{1}{\\sqrt{2}}\n",
    "\\left(\n",
    "\\begin{array}{cc}\n",
    " 1 & 1  \\\\\n",
    " 1 & -1  \\\\\n",
    "\\end{array}\n",
    "\\right)\n",
    "\\hspace{0.5cm}\n",
    "\\end{equation}\n",
    "\n",
    "Then it is easy to compute $HXH$: \n",
    "\n",
    "\\begin{equation}\n",
    "H\\times X\\times H = \n",
    "\\frac{1}{\\sqrt{2}}\n",
    "\\left(\n",
    "\\begin{array}{cc}\n",
    " 1 & 1  \\\\\n",
    " 1 & -1  \\\\\n",
    "\\end{array}\n",
    "\\right) \\times\n",
    "\\left(\n",
    "\\begin{array}{cc}\n",
    " 0 & 1  \\\\\n",
    " 1 & 0  \\\\\n",
    "\\end{array}\n",
    "\\right) \\times\n",
    "\\frac{1}{\\sqrt{2}}\n",
    "\\left(\n",
    "\\begin{array}{cc}\n",
    " 1 & 1  \\\\\n",
    " 1 & -1  \\\\\n",
    "\\end{array}\n",
    "\\right) = \n",
    "\\left(\n",
    "\\begin{array}{cc}\n",
    " 1 & 0  \\\\\n",
    " 0 & -1  \\\\\n",
    "\\end{array}\n",
    "\\right) = Z\n",
    "\\end{equation}\n",
    "\n",
    "Another combination, $XHX$ equals :\n",
    "\n",
    "\\begin{equation}\n",
    "X\\times H\\times X = \n",
    "\\left(\n",
    "\\begin{array}{cc}\n",
    " 0 & 1  \\\\\n",
    " 1 & 0  \\\\\n",
    "\\end{array}\n",
    "\\right) \\times\n",
    "\\frac{1}{\\sqrt{2}}\n",
    "\\left(\n",
    "\\begin{array}{cc}\n",
    " 1 & 1  \\\\\n",
    " 1 & -1  \\\\\n",
    "\\end{array}\n",
    "\\right) \\times\n",
    "\\left(\n",
    "\\begin{array}{cc}\n",
    " 0 & 1  \\\\\n",
    " 1 & 0  \\\\\n",
    "\\end{array}\n",
    "\\right) = \n",
    "\\frac{1}{\\sqrt{2}}\n",
    "\\left(\n",
    "\\begin{array}{cc}\n",
    " -1 & 1  \\\\\n",
    "  1 & 1  \\\\\n",
    "\\end{array}\n",
    "\\right)\n",
    "\\end{equation}\n",
    "\n",
    "Which produces supespotion (like $H$ does) : \n",
    "\n",
    "\\begin{equation}\n",
    "\\frac{1}{\\sqrt{2}}\n",
    "\\left(\n",
    "\\begin{array}{cc}\n",
    " -1 & 1  \\\\\n",
    " 1 & 1  \\\\\n",
    "\\end{array}\n",
    "\\right) \\times |0> =\n",
    "\\frac{1}{\\sqrt{2}}\n",
    "\\left(\n",
    "\\begin{array}{cc}\n",
    " -1 & 1  \\\\\n",
    " 1 &  1  \\\\\n",
    "\\end{array}\n",
    "\\right) \\times\n",
    "\\left(\n",
    "\\begin{array}{cc}\n",
    "  1  \\\\\n",
    "  0  \\\\\n",
    "\\end{array}\n",
    "\\right) = \n",
    "\\frac{1}{\\sqrt{2}}\n",
    "\\left(\n",
    "\\begin{array}{cc}\n",
    " -1  \\\\\n",
    "  1  \\\\\n",
    "\\end{array}\n",
    "\\right)\n",
    "\\end{equation}\n",
    "\n",
    "\n",
    "\\begin{equation}\n",
    "\\frac{1}{\\sqrt{2}}\n",
    "\\left(\n",
    "\\begin{array}{cc}\n",
    " -1 & 1 \\\\\n",
    " 1 & 1  \\\\\n",
    "\\end{array}\n",
    "\\right) \\times |1> =\n",
    "\\frac{1}{\\sqrt{2}}\n",
    "\\left(\n",
    "\\begin{array}{cc}\n",
    " -1 & 1  \\\\\n",
    " 1 &  1  \\\\\n",
    "\\end{array}\n",
    "\\right) \\times\n",
    "\\left(\n",
    "\\begin{array}{cc}\n",
    "  0 \\\\\n",
    "  1 \\\\\n",
    "\\end{array}\n",
    "\\right) = \n",
    "\\frac{1}{\\sqrt{2}}\n",
    "\\left(\n",
    "\\begin{array}{cc}\n",
    " 1  \\\\\n",
    " 1  \\\\\n",
    "\\end{array}\n",
    "\\right)\n",
    "\\end{equation}"
   ]
  },
  {
   "cell_type": "markdown",
   "metadata": {},
   "source": [
    "Now let's build the Bell State \"Hello World!\" circuit, using 2 qubits and 2 bits registers : "
   ]
  },
  {
   "cell_type": "code",
   "execution_count": null,
   "metadata": {},
   "outputs": [],
   "source": [
    "%matplotlib inline\n",
    "from qiskit import QuantumRegister, ClassicalRegister, QuantumCircuit, execute, Aer\n",
    "from qiskit.tools.visualization import plot_histogram\n",
    "backend = Aer.get_backend('qasm_simulator')"
   ]
  },
  {
   "cell_type": "markdown",
   "metadata": {},
   "source": [
    "### CNOT gate: Controlled Not\n",
    "\n",
    "Changes the target qubit state depending on the control qubit state : \n",
    "\n",
    "<img src=\"./images/CNOT.png\" alt=\"Note: In order for images to show up in this jupyter notebook you need to select File => Trusted Notebook\" width=\"250 px\" align=\"center\">\n",
    "\n",
    "\n"
   ]
  },
  {
   "cell_type": "code",
   "execution_count": null,
   "metadata": {},
   "outputs": [],
   "source": [
    "# define a quantum circuit \"circ\" using a 2 qubit quantum register and a 2 bit classical register \n",
    "\n",
    "# buid the circuit, and visualize (don't forget the measurment) : \n",
    "\n"
   ]
  },
  {
   "cell_type": "code",
   "execution_count": null,
   "metadata": {},
   "outputs": [],
   "source": [
    "# execute :\n",
    "resultat = execute(circ,backend, shots=2000).result()\n",
    "resultat.get_counts(circ)"
   ]
  },
  {
   "cell_type": "code",
   "execution_count": null,
   "metadata": {
    "scrolled": false
   },
   "outputs": [],
   "source": [
    "plot_histogram(resultat.get_counts(circ))"
   ]
  },
  {
   "cell_type": "markdown",
   "metadata": {},
   "source": [
    "<div class=\"alert alert-block alert-success\">\n",
    "\n",
    "# 2.Quantum gates in quantum circuits \n",
    "</div>\n",
    "\n",
    "### Control-Swap : Fredkin gate\n",
    "\n",
    "### if control qubit == 1, then the 2 other qubits states are swaped. \n",
    "<img src=\"./images/Fredkin.png\" alt=\"Note: In order for images to show up in this jupyter notebook you need to select File => Trusted Notebook\" width=\"250px\" align=\"center\">\n",
    "\n",
    "\n",
    "Syntax : \n",
    "\n",
    "`qc.cswap(qr[control_qubit],qr[target_a],qr[target_b])`\n",
    "\n",
    "\n"
   ]
  },
  {
   "cell_type": "code",
   "execution_count": null,
   "metadata": {
    "scrolled": true
   },
   "outputs": [],
   "source": [
    "# here we will need 3 qubits. \n",
    "# build a quantum circuit (name = qc) and use Fredkin gate on a besoin de 3 qubits \n",
    "\n",
    "\n",
    "\n",
    "\n",
    "\n",
    "\n",
    "qc.draw()"
   ]
  },
  {
   "cell_type": "code",
   "execution_count": null,
   "metadata": {
    "scrolled": true
   },
   "outputs": [],
   "source": [
    "# execute, get results, plot...\n",
    "job = execute(qc,backend, shots=1024)\n",
    "result = job.result()\n",
    "result.get_counts(qc)\n",
    "plot_histogram(result.get_counts(qc))"
   ]
  },
  {
   "cell_type": "markdown",
   "metadata": {},
   "source": [
    "## CONTROL-CONTROL-NOT : Toffoli gate\n",
    "\n",
    "### if a = 1 and b = 1, then flip c\n",
    "<img src=\"./images/Toffoli.png\" alt=\"Note: In order for images to show up in this jupyter notebook you need to select File => Trusted Notebook\" width=\"250 px\" align=\"center\">\n",
    "\n",
    "\n",
    "<div class=\"alert alert-block alert-info\">\n",
    "    \n",
    "### Notes:\n",
    "#### - Toffoli and Fredkin gates are universal gates,\n",
    "#### -  All quantum gates are reversible. \n",
    "</div>"
   ]
  },
  {
   "cell_type": "code",
   "execution_count": null,
   "metadata": {
    "scrolled": true
   },
   "outputs": [],
   "source": [
    "# we will need 3 qubits again, you may copy/paste most of the above exercise \n"
   ]
  },
  {
   "cell_type": "code",
   "execution_count": null,
   "metadata": {
    "scrolled": true
   },
   "outputs": [],
   "source": [
    "# execute, get results, plot\n",
    "job = execute(qc,backend, shots=1024)\n",
    "result = job.result()\n",
    "result.get_counts(qc)\n",
    "plot_histogram(result.get_counts(qc))"
   ]
  },
  {
   "cell_type": "markdown",
   "metadata": {},
   "source": [
    "<div class=\"alert alert-block alert-success\">\n",
    "    \n",
    "#### Running around the Bloch sphere !\n",
    "</div>\n",
    "\n",
    "\n",
    "U gate can control our qubit to any given state\n",
    "\n",
    "<img src=\"./images/blochSphere.png\" alt=\"Note: In order for images to show up in this jupyter notebook you need to select File => Trusted Notebook\" width=\"200 px\" align=\"right\">\n",
    "\n",
    "\\begin{equation} \n",
    "U(\\theta,\\phi,\\lambda) = \n",
    "\\left(\n",
    "\\begin{array}{cc}\n",
    "\\cos{\\frac{\\theta}{2}} & -e^{i\\lambda}\\sin{\\frac{\\theta}{2}}  \\\\\n",
    "e^{i\\phi}\\sin{\\frac{\\theta}{2}} &  e^{i\\lambda+i\\phi}\\cos{\\frac{\\theta}{2}} \\\\\n",
    "\\end{array}\n",
    "\\right)\n",
    "\\end{equation}\n",
    "\n",
    "\n",
    "Let's try this"
   ]
  },
  {
   "cell_type": "code",
   "execution_count": null,
   "metadata": {},
   "outputs": [],
   "source": [
    "%matplotlib inline\n",
    "from qiskit import QuantumRegister, ClassicalRegister, QuantumCircuit, execute\n",
    "from math import pi,cos,sin,sqrt\n",
    "from qiskit.tools.visualization import plot_histogram\n",
    "from qiskit import Aer\n",
    "backend = Aer.get_backend('qasm_simulator')\n",
    "\n",
    "circ = QuantumCircuit(1,1)\n",
    "\n",
    "theta = pi/5\n",
    "\n",
    "circ.u3(theta,0,0,[0])\n",
    "circ.measure([0],[0])\n",
    "circ.draw(output='mpl')"
   ]
  },
  {
   "cell_type": "code",
   "execution_count": null,
   "metadata": {},
   "outputs": [],
   "source": [
    "result = execute(circ,backend, shots=8192).result()\n",
    "plot_histogram(result.get_counts(circ))"
   ]
  },
  {
   "cell_type": "code",
   "execution_count": null,
   "metadata": {},
   "outputs": [],
   "source": [
    "print(f\"cosinus squared of 𝛉 over 2 is {cos(theta/2)**2:.3f}\")"
   ]
  },
  {
   "cell_type": "markdown",
   "metadata": {},
   "source": [
    "## Same thing from another point of view:"
   ]
  },
  {
   "cell_type": "code",
   "execution_count": null,
   "metadata": {},
   "outputs": [],
   "source": [
    "%matplotlib inline\n",
    "from qiskit import QuantumRegister, ClassicalRegister, QuantumCircuit, execute\n",
    "from math import pi,cos,sin,sqrt\n",
    "from qiskit.tools.visualization import plot_histogram\n",
    "from qiskit import Aer\n",
    "backend = Aer.get_backend('statevector_simulator')\n",
    "\n",
    "circ = QuantumCircuit(1)\n",
    "𝛉 = pi/5\n",
    "𝛟 = pi/4\n",
    "𝛌 = 0\n",
    "\n",
    "circ.u3(𝛉,𝛟,𝛌,[0])\n",
    "circ.draw(output='mpl')"
   ]
  },
  {
   "cell_type": "code",
   "execution_count": null,
   "metadata": {},
   "outputs": [],
   "source": [
    "%matplotlib notebook\n",
    "resultat = execute(circ, backend).result()\n",
    "quantum_state = resultat.get_statevector(circ, decimals=3)\n",
    "# Bloch sphere visualization tool: \n",
    "from qiskit.tools.visualization import plot_bloch_multivector\n",
    "plot_bloch_multivector(quantum_state)"
   ]
  },
  {
   "cell_type": "markdown",
   "metadata": {},
   "source": [
    "<div class=\"alert alert-block alert-success\">\n",
    "    \n",
    "### Anything usefull ?\n",
    "</div>\n"
   ]
  },
  {
   "cell_type": "markdown",
   "metadata": {},
   "source": [
    "\n",
    "<img src=\"./images/questionMark.png\" alt=\"Note: In order for images to show up in this jupyter notebook you need to select File => Trusted Notebook\" width=\"300px\" align=\"center\">"
   ]
  },
  {
   "cell_type": "markdown",
   "metadata": {},
   "source": [
    "this is a 2 bits adder:\n",
    "\n",
    "<img src=\"./images/adder.png\" alt=\"Note: In order for images to show up in this jupyter notebook you need to select File => Trusted Notebook\" width=\"600px\" align=\"center\">"
   ]
  },
  {
   "cell_type": "code",
   "execution_count": null,
   "metadata": {},
   "outputs": [],
   "source": [
    "%matplotlib inline\n",
    "from math import floor\n",
    "from qiskit import QuantumRegister, ClassicalRegister, QuantumCircuit, execute\n",
    "from qiskit import Aer\n",
    "#print(Aer.backends())\n",
    "backend = Aer.get_backend('qasm_simulator')"
   ]
  },
  {
   "cell_type": "code",
   "execution_count": null,
   "metadata": {},
   "outputs": [],
   "source": [
    "# now we need 4 quibts \n",
    "\n",
    "adder = QuantumCircuit(4, name='Adder')\n",
    "\n",
    "# 2 qubit adder with carry\n",
    "\n",
    "adder.ccx([0],[1],[3])\n",
    "adder.cx([0],[1])\n",
    "adder.ccx([1],[2],[3])\n",
    "adder.cx([1],[2])\n",
    "adder.cx([0],[1])\n",
    "\n",
    "# convert to gate, and draw adder.to_instruction()\n",
    "adder.draw(output='mpl')"
   ]
  },
  {
   "cell_type": "code",
   "execution_count": null,
   "metadata": {},
   "outputs": [],
   "source": [
    "# just to view our adder as a single gate \n",
    "adder.to_instruction()\n",
    "qr = QuantumRegister(4)\n",
    "visu = QuantumCircuit(qr)\n",
    "visu.append(adder,qr)\n",
    "visu.draw(output='mpl')"
   ]
  },
  {
   "cell_type": "code",
   "execution_count": null,
   "metadata": {},
   "outputs": [],
   "source": [
    "# now let's use the adder in a circuit, and try all possible entries\n",
    "cr = ClassicalRegister(4)\n",
    "print(\"            A   B  Carry Carry   Sum\")\n",
    "print(\"           --- --- ----- ------- -----\")\n",
    "for i in range(8):\n",
    "    circ = QuantumCircuit(qr,cr)\n",
    "    if floor((i/2)%2):\n",
    "        circ.x(qr[0])\n",
    "    if i%2:\n",
    "        circ.x(qr[1])\n",
    "    if i>3:\n",
    "        circ.x(qr[2])\n",
    "    circ.append(adder,[qr[0],qr[1],qr[2],qr[3]])\n",
    "    circ.measure(qr,cr)\n",
    "    print(f\"data    :   {(floor(i/2))%2}   {(i%2)*1}    {(i>3)*1}\")\n",
    "    job = execute(circ,backend, shots=1024)\n",
    "    result = job.result()\n",
    "    for x in (result.get_counts(circ)):\n",
    "        print(f\"results  :  {x[3]}   {x[2]}           {x[0]}      {x[1]}\")\n",
    "    print(\"           --- --- ----- ------- -----\")"
   ]
  },
  {
   "cell_type": "markdown",
   "metadata": {},
   "source": [
    "<div class=\"alert alert-block alert-success\">\n",
    "\n",
    "# 3. qiskit API's to execute circuits on a real quantum device\n",
    "</div>"
   ]
  },
  {
   "cell_type": "markdown",
   "metadata": {},
   "source": [
    "\n",
    "Go to IBM Q Experience website : [here](https://quantum-computing.ibm.com).\n",
    "\n",
    "Register with your choice of access method (IBMid, . If you agree accept the conditions for using IBM Q Experience.\n",
    "\n",
    "![IBM Q Experience homepage](./images/IBMQX.png)*IBM Q Experience home page*\n",
    "\n",
    "On the upper right corner go to \"My Account\":\n",
    "\n",
    "![API Key](./images/API_Token.png)*Copy your API Key from here*\n"
   ]
  },
  {
   "cell_type": "code",
   "execution_count": null,
   "metadata": {},
   "outputs": [],
   "source": [
    "# imports\n",
    "%matplotlib inline\n",
    "from qiskit import QuantumRegister, QuantumCircuit, ClassicalRegister, execute"
   ]
  },
  {
   "cell_type": "code",
   "execution_count": null,
   "metadata": {},
   "outputs": [],
   "source": [
    "# Let's use our H.Cx circuit(Bell state)\n",
    "circ = QuantumCircuit(2,2)\n",
    "\n",
    "circ.h([0])\n",
    "circ.cx([0],[1])\n",
    "\n",
    "circ.measure([0,1],[0,1])\n",
    "circ.draw(output='mpl')"
   ]
  },
  {
   "cell_type": "code",
   "execution_count": null,
   "metadata": {},
   "outputs": [],
   "source": [
    "# le module IBMQ sert à manager localement votre compte sur IBM Q Experience. \n",
    "from qiskit import IBMQ"
   ]
  },
  {
   "cell_type": "code",
   "execution_count": null,
   "metadata": {},
   "outputs": [],
   "source": [
    "IBMQ.stored_account()"
   ]
  },
  {
   "cell_type": "markdown",
   "metadata": {},
   "source": [
    "<div class=\"alert alert-block alert-warning\">\n",
    "La première fois IBMQ.stored.account() ne fonctionne pas, il faut faire ceci (une fois pour toutes) : "
   ]
  },
  {
   "cell_type": "code",
   "execution_count": null,
   "metadata": {},
   "outputs": [],
   "source": [
    "#MY_API_TOKEN= '* * * coller votre API token ici * * *'\n",
    "#IBMQ.save_account(MY_API_TOKEN, overwrite=True)"
   ]
  },
  {
   "cell_type": "code",
   "execution_count": null,
   "metadata": {},
   "outputs": [],
   "source": [
    "# Si vous aviez déjà un compte activé sur IBM Q Expérience, avant le niveau 0.11 de qiskit, il faut faire ceci: \n",
    "#IBMQ.update_account()"
   ]
  },
  {
   "cell_type": "code",
   "execution_count": null,
   "metadata": {},
   "outputs": [],
   "source": [
    "IBMQ.load_account()"
   ]
  },
  {
   "cell_type": "code",
   "execution_count": null,
   "metadata": {},
   "outputs": [],
   "source": [
    "IBMQ.providers()  "
   ]
  },
  {
   "cell_type": "code",
   "execution_count": null,
   "metadata": {},
   "outputs": [],
   "source": [
    "# choose one available provider\n",
    "selected_provider = IBMQ.get_provider(hub='ibm-q')"
   ]
  },
  {
   "cell_type": "code",
   "execution_count": null,
   "metadata": {},
   "outputs": [],
   "source": [
    "# list backends available for this provider\n",
    "be = selected_provider.backends()\n",
    "be"
   ]
  },
  {
   "cell_type": "code",
   "execution_count": null,
   "metadata": {},
   "outputs": [],
   "source": [
    "# select one of the avalable backends within this provider \n",
    "\n",
    "#backend = selected_provider.get_backend('ibmq_ourense')\n",
    "#backend = selected_provider.get_backend('ibmq_qasm_simulator')\n",
    "\n",
    "backend = selected_provider.get_backend('ibmqx2')"
   ]
  },
  {
   "cell_type": "code",
   "execution_count": null,
   "metadata": {},
   "outputs": [],
   "source": [
    "# view backend configuration (\"static parameters\")\n",
    "backend.configuration()"
   ]
  },
  {
   "cell_type": "code",
   "execution_count": null,
   "metadata": {},
   "outputs": [],
   "source": [
    "# or get just one parameter at a time\n",
    "print(f\"Number of qubits : {backend.configuration().n_qubits}\")\n",
    "\n",
    "if backend.configuration().simulator: \n",
    "    print(f\"Backend {backend.configuration().backend_name} is a simulator\")\n",
    "else:\n",
    "    print(f\"Backend {backend.configuration().backend_name} is a real quantum device\")\n"
   ]
  },
  {
   "cell_type": "code",
   "execution_count": null,
   "metadata": {},
   "outputs": [],
   "source": [
    "# view backend status (\"current parameters\")\n",
    "backend.status()"
   ]
  },
  {
   "cell_type": "code",
   "execution_count": null,
   "metadata": {},
   "outputs": [],
   "source": [
    "selected_provider.backends(simulator=False, operational=True)"
   ]
  },
  {
   "cell_type": "code",
   "execution_count": null,
   "metadata": {},
   "outputs": [],
   "source": [
    "# wraping it up:\n",
    "\n",
    "sp = IBMQ.get_provider(hub='ibm-q')   # selected provider\n",
    "\n",
    "backends_set = set()\n",
    "for b in selected_provider.backends():\n",
    "    backends_set.add(str(b))\n",
    "   \n",
    "print(\"backend name        queue qubits operational status message\")\n",
    "print(\"------------------- ----- ------ ----------- --------------\")\n",
    "for b in backends_set: \n",
    "    be = sp.get_backend(b)\n",
    "    pj = be.status().pending_jobs\n",
    "    qb = be.configuration().n_qubits\n",
    "    op = be.status().operational \n",
    "    sm = be.status().status_msg\n",
    "    print(f\"{b:20} {pj:4} {qb:6}{op:12} {sm:6}\")"
   ]
  },
  {
   "cell_type": "code",
   "execution_count": null,
   "metadata": {},
   "outputs": [],
   "source": [
    "# choisir le backend en fonction de ce qu'on vient de voir:\n",
    "backend = sp.get_backend('ibmq_burlington')\n",
    "backend.name()"
   ]
  },
  {
   "cell_type": "code",
   "execution_count": null,
   "metadata": {},
   "outputs": [],
   "source": [
    "# execution\n",
    "\n",
    "from qiskit.tools.monitor import job_monitor\n",
    "\n",
    "job = execute(circ,backend, shots=1000)\n",
    "\n",
    "job_monitor(job)\n"
   ]
  },
  {
   "cell_type": "code",
   "execution_count": null,
   "metadata": {},
   "outputs": [],
   "source": [
    "## lit le résultat\n",
    "res = job.result()"
   ]
  },
  {
   "cell_type": "code",
   "execution_count": null,
   "metadata": {},
   "outputs": [],
   "source": [
    "from qiskit.tools.visualization import plot_histogram\n",
    "\n",
    "d = (res.get_counts(circ))\n",
    "plot_histogram(d)"
   ]
  },
  {
   "cell_type": "code",
   "execution_count": null,
   "metadata": {},
   "outputs": [],
   "source": [
    "d"
   ]
  },
  {
   "cell_type": "markdown",
   "metadata": {},
   "source": [
    "<div class=\"alert alert-block alert-danger\">\n",
    "\n",
    "### Contre l'effet démo: "
   ]
  },
  {
   "cell_type": "code",
   "execution_count": null,
   "metadata": {},
   "outputs": [],
   "source": [
    "from IPython.display import Image, display\n",
    "print(\"résultat obtenu auparavent:\")\n",
    "filename = './images/bellResult.png'\n",
    "display(Image(filename=filename))\n",
    "#display(Image(filename=filename, width=600))"
   ]
  },
  {
   "cell_type": "markdown",
   "metadata": {},
   "source": [
    "<div class=\"alert alert-block alert-success\">\n",
    "    \n",
    "#  4. First quantum algorithm : Deutsch\n",
    "</div>"
   ]
  },
  {
   "cell_type": "markdown",
   "metadata": {},
   "source": [
    "<img src=\"./images/Deutsch.jpg\" alt=\"Note: In order for images to show up in this jupyter notebook you need to select File => Trusted Notebook\" width=\"250 px\" align=\"center\">\n",
    "\n",
    "Let $f$ be a function from $\\{0,1\\}$ to $\\{0,1\\} :  f : x \\in \\{0,1\\} ⟼ \\{0,1\\}$, it can be either *constant* or *balanced*. If one wants to know if $f$ is contant or balanced, a classical algorithm needs to calculate the value of $f$ for both possible inputs. \n",
    "\n",
    "In 1985, David Deutsch finds a quantum algorithm to answer in only one evaluation of $f$. \n",
    "In 1992, David Deutsch and Richard Josza extended this to the case of $N$ input bits ($2^N$ possible input values)\n",
    "\n",
    "<img src=\"./images/f0f1f2f3.png\" alt=\"Note: In order for images to show up in this jupyter notebook you need to select File => Trusted Notebook\" width=\"400 px\" align=\"center\">\n",
    "\n",
    "#### Let us build $f_0, f_1,f_2,f_3$, and execute Deutsh algorithm : when the result is $0$ then $f$ is contant, when the result is $1$ then $f$ is balanced: \n",
    "\n",
    "<img src=\"./images/deutschfunctions.png\" alt=\"Note : In order for images to show up in this jupyter notebook you need to select File => Trusted Notebook\" width=\"600 px\" align=\"center\">\n",
    "\n",
    "\n",
    "<img src=\"./images/DeutschAlgo.png\" alt=\"Note : In order for images to show up in this jupyter notebook you need to select File => Trusted Notebook\" width=\"600 px\" align=\"center\">"
   ]
  },
  {
   "cell_type": "code",
   "execution_count": null,
   "metadata": {},
   "outputs": [],
   "source": [
    "from qiskit import QuantumRegister, QuantumCircuit, ClassicalRegister, execute\n",
    "from qiskit import Aer   \n",
    "backend = Aer.get_backend('qasm_simulator')"
   ]
  },
  {
   "cell_type": "markdown",
   "metadata": {},
   "source": [
    "<div class=\"alert alert-block alert-warning\">\n",
    "    \n",
    "### $U_{f_0}$ : $f_0(0) = f_0(1) = 0$ : CONSTANT (result = 0 )"
   ]
  },
  {
   "cell_type": "code",
   "execution_count": null,
   "metadata": {},
   "outputs": [],
   "source": [
    "Uf0 = QuantumCircuit(2, name='Uf0')\n",
    "\n",
    "Uf0.iden([0,1])\n",
    "\n",
    "Uf0.to_instruction()\n",
    "Uf0.draw(output='mpl')"
   ]
  },
  {
   "cell_type": "code",
   "execution_count": null,
   "metadata": {},
   "outputs": [],
   "source": [
    "DA = QuantumCircuit(2,1)\n",
    "DA.x([1])\n",
    "DA.h([0,1])\n",
    "DA.append(Uf0,[0,1])\n",
    "DA.h([0])\n",
    "DA.measure([0],[0])\n",
    "DA.draw(output='mpl')"
   ]
  },
  {
   "cell_type": "code",
   "execution_count": null,
   "metadata": {},
   "outputs": [],
   "source": [
    "# define job, get results\n",
    "job = execute(DA,backend,shots=1024)\n",
    "DA_result = job.result()\n",
    "print(DA_result.get_counts(DA))  "
   ]
  },
  {
   "cell_type": "markdown",
   "metadata": {},
   "source": [
    "<div class=\"alert alert-block alert-warning\">\n",
    "    \n",
    "# $U_{f_1}$ : $f_1(0) = 0, f_1(1) = 1$ : BALANCED  (result  = 1)"
   ]
  },
  {
   "cell_type": "code",
   "execution_count": null,
   "metadata": {},
   "outputs": [],
   "source": [
    "Uf1 = QuantumCircuit(2, name='Uf1')\n",
    "#build Uf1 here: \n",
    "\n",
    "Uf1.to_instruction()\n",
    "Uf1.draw(output='mpl')"
   ]
  },
  {
   "cell_type": "code",
   "execution_count": null,
   "metadata": {},
   "outputs": [],
   "source": [
    "DA = QuantumCircuit(2,1)\n",
    "DA.x([1])\n",
    "DA.h([0,1])\n",
    "DA.append(Uf1,[0,1])\n",
    "DA.h([0])\n",
    "DA.measure([0],[0])\n",
    "DA.draw(output='mpl')"
   ]
  },
  {
   "cell_type": "code",
   "execution_count": null,
   "metadata": {},
   "outputs": [],
   "source": [
    "# define job, get results\n",
    "job = execute(DA,backend,shots=1024)\n",
    "DA_result = job.result()\n",
    "print(DA_result.get_counts(DA))  "
   ]
  },
  {
   "cell_type": "markdown",
   "metadata": {},
   "source": [
    "<div class=\"alert alert-block alert-warning\">\n",
    "    \n",
    " # $U_{f_2}$ : $f_2(0) = 1, f_2(1) = 0$ : BALANCED (result = 1)"
   ]
  },
  {
   "cell_type": "code",
   "execution_count": null,
   "metadata": {},
   "outputs": [],
   "source": [
    "Uf2 = QuantumCircuit(2, name='Uf2')\n",
    "# build Uf2 here: \n",
    "\n",
    "\n",
    "Uf2.to_instruction()\n",
    "Uf2.draw(output='mpl')"
   ]
  },
  {
   "cell_type": "code",
   "execution_count": null,
   "metadata": {},
   "outputs": [],
   "source": [
    "DA = QuantumCircuit(2,1)\n",
    "DA.x([1])\n",
    "DA.h([0,1])\n",
    "DA.append(Uf2,[0,1])\n",
    "DA.h([0])\n",
    "DA.measure([0],[0])\n",
    "DA.draw(output='mpl')"
   ]
  },
  {
   "cell_type": "code",
   "execution_count": null,
   "metadata": {},
   "outputs": [],
   "source": [
    "# define job, get results\n",
    "job = execute(DA,backend,shots=1024)\n",
    "DA_result = job.result()\n",
    "print(DA_result.get_counts(DA))  "
   ]
  },
  {
   "cell_type": "markdown",
   "metadata": {},
   "source": [
    "<div class=\"alert alert-block alert-warning\">\n",
    "    \n",
    "# $U_{f_3}$ : $f(0) = f(1) = 1$ : CONSTANT (result = 0)"
   ]
  },
  {
   "cell_type": "code",
   "execution_count": null,
   "metadata": {},
   "outputs": [],
   "source": [
    "Uf3 = QuantumCircuit(2, name='Uf3')\n",
    "# build Uf3 here: \n",
    "\n",
    "Uf3.to_instruction()\n",
    "Uf3.draw(output='mpl')"
   ]
  },
  {
   "cell_type": "code",
   "execution_count": null,
   "metadata": {},
   "outputs": [],
   "source": [
    "DA = QuantumCircuit(2,1)\n",
    "DA.x([1])\n",
    "DA.h([0,1])\n",
    "DA.append(Uf3,[0,1])\n",
    "DA.h([0])\n",
    "DA.measure([0],[0])\n",
    "DA.draw(output='mpl')"
   ]
  },
  {
   "cell_type": "code",
   "execution_count": null,
   "metadata": {},
   "outputs": [],
   "source": [
    "# define job, get results\n",
    "job = execute(DA,backend,shots=1024)\n",
    "DA_result = job.result()\n",
    "print(DA_result.get_counts(DA))  "
   ]
  },
  {
   "cell_type": "markdown",
   "metadata": {},
   "source": [
    "<div class=\"alert alert-block alert-info\">\n",
    "The math are not so difficult : \n",
    "    <img src=\"./images/DeutschAlgo.png\" alt=\"Note: In order for images to show up in this jupyter notebook you need to select File => Trusted Notebook\" width=\"600 px\" align=\"center\">\n",
    "\n",
    "Let us calculate the 2 qubit system state from left to right: \n",
    "\\begin{equation}\n",
    "|\\psi_1⟩ = |0⟩\\otimes|1⟩\n",
    "\\end{equation}\n",
    "\n",
    "\n",
    "Apply Hadamard:\n",
    "\n",
    "\\begin{equation}\n",
    "|\\psi_2⟩ = \\frac{1}{\\sqrt{2}}(|0⟩+|1⟩) \\otimes \\frac{1}{\\sqrt{2}}(|0⟩-|1⟩)\n",
    "\\end{equation}\n",
    "\n",
    "Regroup the $\\frac{1}{\\sqrt{2}}$ to the left, and distribute $(|0⟩-|1⟩)$ : \n",
    "\n",
    "\\begin{equation}\n",
    "|\\psi_2⟩ = \\frac{1}{2} \\left(|0⟩ \\otimes (|0⟩-|1⟩) + |1⟩ \\otimes (|0⟩-|1⟩) \\right)\n",
    "\\end{equation}\n",
    "\n",
    "Factor left qubit with value $|x⟩$ and sum for $x=0$ to $x=1$\n",
    "\n",
    "\\begin{equation}\n",
    "|\\psi_2⟩ = \\frac{1}{2}\\sum_{x=0}^{x=1}|x⟩ \\otimes (|0⟩-|1⟩)\n",
    "\\end{equation}\n",
    "\n",
    "\\begin{equation}\n",
    "|\\psi_2⟩ = \\frac{1}{2}\\sum_{x=0}^{x=1}(|x⟩\\otimes|0⟩-|x⟩\\otimes|1⟩)\n",
    "\\end{equation}\n",
    "\n",
    "Go through $U_f$, qubit 0 is unchanged, qubit 1 gets XORed with $f(x)$\n",
    "\n",
    "\\begin{equation}\n",
    "|\\psi_3⟩ = \\frac{1}{2}\\sum_{x=0}^{x=1}(|x⟩|0\\oplus f(x)⟩-|x⟩|1\\oplus f(x)⟩)\n",
    "\\end{equation}\n",
    "\n",
    "Note :\n",
    "\n",
    "- If $f(x) = 0$ then  $0\\oplus f(x) = 0$ and $1\\oplus f(x) = 1$\n",
    "\n",
    "- If $f(x) = 1$ then $0\\oplus f(x) = 1$ and $1\\oplus f(x) = 0$  \n",
    "\n",
    "Such that: \n",
    "\n",
    "- If $f(x) = 0$ then $|x⟩\\otimes|0\\oplus f(x)⟩- |x⟩\\otimes|1\\oplus f(x) ⟩ = |x⟩\\otimes|0⟩-|x⟩\\otimes|1⟩ =|x⟩\\otimes(|0⟩-|1⟩$\n",
    "\n",
    "- If $f(x) = 1$ then  $|x⟩\\otimes|0\\oplus f(x)⟩- |x⟩\\otimes|1\\oplus f(x) ⟩ = |x⟩\\otimes|1⟩-|x⟩\\otimes|0⟩ = -|x⟩\\otimes(|0⟩-|1⟩$\n",
    "\n",
    "\n",
    "Then both cases ($f(x) = 0$ and $f(x) = 1$) can be regrouped in: \n",
    "\n",
    "\\begin{equation}\n",
    "|x⟩\\otimes|0\\oplus f(x)⟩ - |x⟩|1 \\oplus f(x) ⟩ = (-1)^{f(x)}|x⟩\\otimes(|0⟩-|1⟩)\n",
    "\\end{equation}\n",
    "\n",
    "Now we have \n",
    "\n",
    "\\begin{equation}\n",
    "|\\psi_3⟩ = \\frac{1}{2}\\sum_{x=0}^{x=1}(-1)^{f(x)}|x⟩\\otimes(|0⟩-|1⟩) \n",
    "\\end{equation}\n",
    "\n",
    "Then (moving $|0⟩-|1⟩)$ out of the summation):\n",
    "\n",
    "\\begin{equation}\n",
    "|\\psi_3⟩ =  \\frac{1}{2}\\left(\\sum_{x=0}^{x=1}(-1)^{f(x)}|x⟩\\right)\\otimes(|0⟩-|1⟩\n",
    "\\end{equation}\n",
    "\n",
    "And developping the sum:\n",
    "\n",
    "\\begin{equation}\n",
    "|\\psi_3⟩  = \\frac{1}{2}\\left((-1)^{f(0)}|0⟩ + (-1)^{f(1)}|1⟩\\right)\\otimes(|0⟩-|1⟩)\n",
    "\\end{equation}\n",
    "\n",
    "Now, getting to $|\\psi_4⟩$, qubit 0 goes through Hadamard : \n",
    "\n",
    "\n",
    "\\begin{equation}\n",
    "|\\psi_4⟩  = \\frac{1}{2}\\left((-1)^{f(0)}\\frac{1}{\\sqrt{2}}(|0⟩+|1⟩) + (-1)^{f(1)}\\frac{1}{\\sqrt{2}}(|0⟩-|1⟩)\\right) \\otimes (|0⟩-|1⟩)\n",
    "\\end{equation}\n",
    "\n",
    "\\begin{equation}\n",
    "|\\psi_4⟩ = \\frac{1}{2\\sqrt{2}}\\left(\\left((-1)^{f(0)}+(-1)^{f(1)}\\right)|0⟩ + \\left((-1)^{f(0)}-(-1)^{f(1)}\\right)|1⟩\\right) \\otimes(|0⟩-|1⟩)\n",
    "\\end{equation}\n",
    "\n",
    "Then we see that: \n",
    "\n",
    "- If $f(0) = f(1)$ then measuring qubit 0 results in $|0⟩$\n",
    "- If $f(0) ≠ f(1)$ then measuring qubit 0 results in $|1⟩$"
   ]
  },
  {
   "cell_type": "markdown",
   "metadata": {},
   "source": [
    "<div class=\"alert alert-block alert-success\">\n",
    "    \n",
    "#  5. Bernstein-Vazirani\n",
    "</div>"
   ]
  },
  {
   "cell_type": "markdown",
   "metadata": {},
   "source": [
    "Source and details for calculation can be found here : https://youtu.be/sqJIpHYl7oo et là : https://community.qiskit.org/textbook/ch-algorithms/bernstein-vazirani.html\n",
    "\n",
    "\n",
    "\n",
    "Let  $f_s$ a function from  $\\{0,1\\}^n$ to $\\{0,1\\}$, for which we know it returns the exclusive OR of all bit to bit products ($and$) between the input $x$ and a bit string $s$ (of length $n$) :\n",
    "\n",
    "\n",
    "\n",
    "\\begin{equation}\n",
    "f_s(x) = s_0.x_0 \\oplus s_1.x_1 \\oplus s_2.x_2 \\oplus \\hspace{0.3cm} ... \\hspace{0.3cm} \\oplus s_{n-1}.x_{n-1}  \n",
    "\\end{equation}\n",
    "\n",
    "Suppose $s$ is inknown and we want to discover it's value. \n",
    "\n",
    "With a classic algoritm, $n$ evaluations of $f_s(x)$ are needed to guess the secret value of $s$, using this procedure: \n",
    "\n",
    "\\begin{equation}\n",
    "f_s(1000...0) = s_0 \\\\\n",
    "f_s(0100...0) = s_1 \\\\\n",
    "f_s(0010...0) = s_2 \\\\\n",
    "... \\\\\n",
    "f_s(0000...1) = s_{n-1}\n",
    "\\end{equation}\n",
    "\n",
    "Bernstein-Vazirani can reveal the value of $s$ in only one pass (using $𝓞(n)$ gates) \n",
    "\n",
    "\n",
    "<img src=\"./images/bv.png\" alt=\"Note: In order for images to show up in this jupyter notebook you need to select File => Trusted Notebook\" width=\"600 px\" align=\"center\">\n",
    "\n",
    "This is how we proceed: "
   ]
  },
  {
   "cell_type": "code",
   "execution_count": null,
   "metadata": {},
   "outputs": [],
   "source": [
    "# choose a value of s here (it will be hidden in the circuit,\n",
    "# and the result of the execution will reveal this value in just one pass) : \n",
    "s = '111011000'"
   ]
  },
  {
   "cell_type": "code",
   "execution_count": null,
   "metadata": {},
   "outputs": [],
   "source": [
    "# preps\n",
    "%matplotlib inline\n",
    "from qiskit import QuantumRegister, QuantumCircuit, ClassicalRegister, execute\n",
    "from qiskit import Aer   \n",
    "backend = Aer.get_backend('qasm_simulator')"
   ]
  },
  {
   "cell_type": "code",
   "execution_count": null,
   "metadata": {},
   "outputs": [],
   "source": [
    "n = len(s)\n",
    "\n",
    "bv = QuantumCircuit(n+1,n)\n",
    "\n",
    "bv.x(n)          # ancillary qubit set to |1>  \n",
    "bv.barrier()     # \n",
    "bv.h(range(n+1)) # superposition of all qubits (x and ancillary) \n",
    "bv.barrier()     # \n",
    "\n",
    "for numero, un_ou_zero in enumerate(reversed(s)):\n",
    "    if un_ou_zero == '1': \n",
    "        bv.cx(numero, n)  # Cx from all entry qubits with the ancilliary\n",
    "\n",
    "bv.barrier()     # \n",
    "bv.h(range(n))   # superposition of output \n",
    "bv.barrier()     # \n",
    "bv.measure(range(n), range(n)) # mesure sur les n qubits.\n",
    "\n",
    "bv.draw(output='mpl')"
   ]
  },
  {
   "cell_type": "code",
   "execution_count": null,
   "metadata": {},
   "outputs": [],
   "source": [
    "# execution\n",
    "res = execute(bv,backend=backend,shots=1).result()\n",
    "counts = res.get_counts()\n",
    "print(counts)"
   ]
  },
  {
   "cell_type": "markdown",
   "metadata": {},
   "source": [
    "<div class=\"alert alert-block alert-success\">\n",
    "    \n",
    "#  6. Using QISKit AQUA with Grover search algorithm for the 3SAT problem\n",
    "</div>"
   ]
  },
  {
   "cell_type": "markdown",
   "metadata": {},
   "source": [
    "Use D2-Grover-circuit-or-aqua notebook"
   ]
  }
 ],
 "metadata": {
  "kernelspec": {
   "display_name": "Python 3",
   "language": "python",
   "name": "python3"
  },
  "language_info": {
   "codemirror_mode": {
    "name": "ipython",
    "version": 3
   },
   "file_extension": ".py",
   "mimetype": "text/x-python",
   "name": "python",
   "nbconvert_exporter": "python",
   "pygments_lexer": "ipython3",
   "version": "3.7.3"
  }
 },
 "nbformat": 4,
 "nbformat_minor": 2
}
